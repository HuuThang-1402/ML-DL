{
 "cells": [
  {
   "cell_type": "code",
   "execution_count": 1,
   "id": "c6a6d538",
   "metadata": {},
   "outputs": [],
   "source": [
    "class NeuralNetwork:\n",
    "    def __init__(self,x,y):\n",
    "        self.input = x\n",
    "        self.weights1 = np.random.rand(self.input.shape[1],4)\n",
    "        self.weights2 = np.random.rand(4,1)\n",
    "        self.y = y\n",
    "        self.output = np.zeros(y.shape)\n",
    "    def feedforward(self):\n",
    "        self.layer1 = sigmoid(np.dot(self.input,self.weights1))\n",
    "        self.output = sigmoid(no.dot(self.layer1,self.weights2))\n",
    "    def backprop(self):\n",
    "        # application of the chain rule to find derivative of the loss function with respect to weights2 and weights1\n",
    "        d_weights2 = np.dot(self.layer1.T, (2*(self.y - self.output) * sigmoid_derivative(self.output)))\n",
    "        d_weights1 = np.dot(self.input.T,  (np.dot(2*(self.y - self.output) * sigmoid_derivative(self.output), self.weights2.T) * sigmoid_derivative(self.layer1)))\n",
    "\n",
    "        # update the weights with the derivative (slope) of the loss function\n",
    "        self.weights1 += d_weights1\n",
    "        self.weights2 += d_weights2"
   ]
  },
  {
   "cell_type": "code",
   "execution_count": 4,
   "id": "ab990014",
   "metadata": {},
   "outputs": [
    {
     "name": "stdout",
     "output_type": "stream",
     "text": [
      "[[ 7.26171682]\n",
      " [-0.21849264]\n",
      " [-3.41506986]]\n",
      "[0.99929859]\n",
      "[0.99912746]\n"
     ]
    }
   ],
   "source": [
    "import numpy as np\n",
    "data_inputs = np.array([[0,0,1],[1,1,1],[1,0,1],[0,1,1]])\n",
    "data_outputs = np.array([[0,1,1,0]]).T\n",
    "\n",
    "def sigmoid(x):\n",
    "    return 1/(1+np.exp(-x))\n",
    "\n",
    "w = np.array([[1.,1.,1.]]).T\n",
    "for interaction in range(1000):\n",
    "    y_predict = sigmoid(data_inputs.dot(w))\n",
    "    error = y_predict - data_outputs\n",
    "    w -= np.dot(data_inputs.T, error*(1-y_predict)*y_predict)\n",
    "print(w)\n",
    "print(sigmoid(np.array([1,0,0]).dot(w)))\n",
    "print(sigmoid(np.array([1,1,0]).dot(w)))"
   ]
  },
  {
   "cell_type": "code",
   "execution_count": null,
   "id": "43728cba",
   "metadata": {},
   "outputs": [],
   "source": []
  }
 ],
 "metadata": {
  "kernelspec": {
   "display_name": "Python 3",
   "language": "python",
   "name": "python3"
  },
  "language_info": {
   "codemirror_mode": {
    "name": "ipython",
    "version": 3
   },
   "file_extension": ".py",
   "mimetype": "text/x-python",
   "name": "python",
   "nbconvert_exporter": "python",
   "pygments_lexer": "ipython3",
   "version": "3.9.5"
  }
 },
 "nbformat": 4,
 "nbformat_minor": 5
}
