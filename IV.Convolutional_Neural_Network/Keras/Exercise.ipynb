{
 "cells": [
  {
   "cell_type": "code",
   "execution_count": 34,
   "id": "44f67c2a",
   "metadata": {},
   "outputs": [],
   "source": [
    "import numpy as np\n",
    "import matplotlib.pyplot as plt\n",
    "from tensorflow.keras import Sequential\n",
    "from keras.layers import Dense, Dropout, Activation, Flatten\n",
    "from keras.layers import Conv2D, MaxPooling2D\n",
    "from keras.utils import np_utils\n",
    "from keras.datasets import mnist\n",
    "from keras.datasets import cifar10"
   ]
  },
  {
   "cell_type": "code",
   "execution_count": 35,
   "id": "5cda4969",
   "metadata": {},
   "outputs": [
    {
     "name": "stdout",
     "output_type": "stream",
     "text": [
      "(40000, 32, 32, 3)\n"
     ]
    }
   ],
   "source": [
    "(X_train, y_train), (X_test, y_test) = cifar10.load_data()\n",
    "X_val,y_val = X_train[40000:50000,:],y_train[40000:50000]\n",
    "X_train,y_train = X_train[:40000,:],y_train[:40000]\n",
    "print(X_train.shape)"
   ]
  },
  {
   "cell_type": "code",
   "execution_count": 36,
   "id": "a55a66f4",
   "metadata": {},
   "outputs": [
    {
     "name": "stdout",
     "output_type": "stream",
     "text": [
      "Du lieu y ban dau: [6]\n",
      "Du lieu y sau one-hot encoding: [0. 0. 0. 0. 0. 0. 1. 0. 0. 0.]\n"
     ]
    }
   ],
   "source": [
    "# Reshape lai du lieu cho dung kich thuoc ma keras yeu cau\n",
    "X_train = X_train.astype(\"float32\")\n",
    "X_val = X_val.astype(\"float32\")\n",
    "X_test = X_test.astype(\"float32\")\n",
    "X_train/=255.0\n",
    "X_val/=255.0\n",
    "X_test/=255.0\n",
    "\n",
    "# One hot encoding label (Y)\n",
    "Y_train = np_utils.to_categorical(y_train, 10)\n",
    "Y_val = np_utils.to_categorical(y_val, 10)\n",
    "Y_test = np_utils.to_categorical(y_test, 10)\n",
    "print(\"Du lieu y ban dau:\",y_train[0])\n",
    "print(\"Du lieu y sau one-hot encoding:\",Y_train[0])"
   ]
  },
  {
   "cell_type": "code",
   "execution_count": 37,
   "id": "108ef46e",
   "metadata": {},
   "outputs": [],
   "source": [
    "# Dinh nghia model\n",
    "model = Sequential()\n",
    "\n",
    "# Them Convolutional layer voi 32 kernel, kich thuoc 3*3\n",
    "# dung ham signmoid lam activation va chi ro input_shape cho layer dau tien\n",
    "model.add(Conv2D(32,(3,3), activation=\"sigmoid\", input_shape=(32,32,3)))\n",
    "\n",
    "# Them Convolutional layer\n",
    "model.add(Conv2D(32, (3,3), activation =\"sigmoid\"))\n",
    "\n",
    "# Them max pooling layer\n",
    "model.add(MaxPooling2D(pool_size=(2,2)))\n",
    "\n",
    "# Flatten chuyen tu tensor sang vector\n",
    "model.add(Flatten())\n",
    "\n",
    "# Them Fully Connected layer voi 128 nodes va dung ham sigmoid\n",
    "model.add(Dense(128, activation = \"sigmoid\"))\n",
    "\n",
    "# Ouput layer voi 10 node va dung softmax function de chuyen sang xac suat\n",
    "model.add(Dense(10, activation=\"softmax\"))\n",
    "\n",
    "# Compile model, chi ro ham loss_func nao duoc su dung, phuong thuc\n",
    "# dung de toi uu ham loss_func\n",
    "model.compile(loss=\"categorical_crossentropy\",optimizer=\"adam\",metrics=[\"accuracy\"])"
   ]
  },
  {
   "cell_type": "code",
   "execution_count": 38,
   "id": "772bc603",
   "metadata": {},
   "outputs": [
    {
     "name": "stdout",
     "output_type": "stream",
     "text": [
      "Epoch 1/10\n",
      "1250/1250 [==============================] - 50s 40ms/step - loss: 2.0632 - accuracy: 0.2428 - val_loss: 1.8554 - val_accuracy: 0.3277\n",
      "Epoch 2/10\n",
      "1250/1250 [==============================] - 47s 37ms/step - loss: 1.7259 - accuracy: 0.3817 - val_loss: 1.6803 - val_accuracy: 0.4031\n",
      "Epoch 3/10\n",
      "1250/1250 [==============================] - 48s 38ms/step - loss: 1.5864 - accuracy: 0.4331 - val_loss: 1.5760 - val_accuracy: 0.4310\n",
      "Epoch 4/10\n",
      "1250/1250 [==============================] - 51s 41ms/step - loss: 1.5078 - accuracy: 0.4591 - val_loss: 1.5108 - val_accuracy: 0.4613\n",
      "Epoch 5/10\n",
      "1250/1250 [==============================] - 56s 45ms/step - loss: 1.4392 - accuracy: 0.4904 - val_loss: 1.4847 - val_accuracy: 0.4706\n",
      "Epoch 6/10\n",
      "1250/1250 [==============================] - 60s 48ms/step - loss: 1.3820 - accuracy: 0.5120 - val_loss: 1.4356 - val_accuracy: 0.4902\n",
      "Epoch 7/10\n",
      "1250/1250 [==============================] - 58s 46ms/step - loss: 1.3292 - accuracy: 0.5296 - val_loss: 1.4081 - val_accuracy: 0.5006\n",
      "Epoch 8/10\n",
      "1250/1250 [==============================] - 58s 46ms/step - loss: 1.2767 - accuracy: 0.5490 - val_loss: 1.3830 - val_accuracy: 0.5066\n",
      "Epoch 9/10\n",
      "1250/1250 [==============================] - 59s 47ms/step - loss: 1.2246 - accuracy: 0.5642 - val_loss: 1.3644 - val_accuracy: 0.5088\n",
      "Epoch 10/10\n",
      "1250/1250 [==============================] - 58s 46ms/step - loss: 1.1681 - accuracy: 0.5877 - val_loss: 1.3464 - val_accuracy: 0.5187\n"
     ]
    }
   ],
   "source": [
    "# Thuc hien train model voi data\n",
    "H = model.fit(X_train, Y_train, validation_data=(X_val,Y_val),batch_size=32,epochs=10,verbose=\"auto\")"
   ]
  },
  {
   "cell_type": "code",
   "execution_count": 39,
   "id": "b6279e2b",
   "metadata": {},
   "outputs": [
    {
     "data": {
      "text/plain": [
       "<matplotlib.legend.Legend at 0x7fb35156db20>"
      ]
     },
     "execution_count": 39,
     "metadata": {},
     "output_type": "execute_result"
    },
    {
     "data": {
      "image/png": "[encoded data removed]",
      "text/plain": [
       "<Figure size 432x288 with 1 Axes>"
      ]
     },
     "metadata": {
      "needs_background": "light"
     },
     "output_type": "display_data"
    }
   ],
   "source": [
    "# Ve do thi loss, accuracy cua training set va validation set\n",
    "fig = plt.figure()\n",
    "numOfEpoch = 10\n",
    "plt.plot(np.arange(0, numOfEpoch), H.history['loss'], label='training loss')\n",
    "plt.plot(np.arange(0, numOfEpoch), H.history['val_loss'], label='validation loss')\n",
    "plt.plot(np.arange(0, numOfEpoch), H.history['accuracy'], label='accuracy')\n",
    "plt.plot(np.arange(0, numOfEpoch), H.history['val_accuracy'], label='validation accuracy')\n",
    "plt.title('Accuracy and Loss')\n",
    "plt.xlabel('Epoch')\n",
    "plt.ylabel('Loss|Accuracy')\n",
    "plt.legend()"
   ]
  },
  {
   "cell_type": "code",
   "execution_count": 40,
   "id": "549db705",
   "metadata": {},
   "outputs": [
    {
     "name": "stdout",
     "output_type": "stream",
     "text": [
      "[1.3418960571289062, 0.5171999931335449]\n"
     ]
    }
   ],
   "source": [
    "score = model.evaluate(X_test, Y_test,verbose=0)\n",
    "print(score)"
   ]
  },
  {
   "cell_type": "code",
   "execution_count": 103,
   "id": "7e314ddf",
   "metadata": {},
   "outputs": [
    {
     "name": "stdout",
     "output_type": "stream",
     "text": [
      "1402\n",
      "Gia tri du doan: 7\n"
     ]
    },
    {
     "data": {
      "image/png": "[encoded data removed]",
      "text/plain": [
       "<Figure size 432x288 with 1 Axes>"
      ]
     },
     "metadata": {
      "needs_background": "light"
     },
     "output_type": "display_data"
    }
   ],
   "source": [
    "# Du doan anh\n",
    "k = int(input())\n",
    "plt.subplot(330+1)\n",
    "img = X_test[k].transpose([1,0,2])\n",
    "plt.imshow(img)\n",
    "# pred=X_test[k].astype(\"float32\")\n",
    "# pred/=255.0\n",
    "y_predict = model.predict(X_test[k].reshape(1,32,32,3))\n",
    "print(\"Gia tri du doan:\",np.argmax(y_predict))"
   ]
  },
  {
   "cell_type": "code",
   "execution_count": null,
   "id": "a3948946",
   "metadata": {},
   "outputs": [],
   "source": []
  }
 ],
 "metadata": {
  "kernelspec": {
   "display_name": "Python 3",
   "language": "python",
   "name": "python3"
  },
  "language_info": {
   "codemirror_mode": {
    "name": "ipython",
    "version": 3
   },
   "file_extension": ".py",
   "mimetype": "text/x-python",
   "name": "python",
   "nbconvert_exporter": "python",
   "pygments_lexer": "ipython3",
   "version": "3.9.5"
  }
 },
 "nbformat": 4,
 "nbformat_minor": 5
}
