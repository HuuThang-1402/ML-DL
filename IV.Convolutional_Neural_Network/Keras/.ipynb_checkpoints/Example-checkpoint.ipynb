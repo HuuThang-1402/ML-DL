{
 "cells": [
  {
   "cell_type": "code",
   "execution_count": 74,
   "id": "a0b4b4fc",
   "metadata": {},
   "outputs": [],
   "source": [
    "import numpy as np\n",
    "import matplotlib.pyplot as plt\n",
    "from tensorflow.keras import Sequential\n",
    "from keras.layers import Dense, Dropout, Activation, Flatten\n",
    "from keras.layers import Conv2D, MaxPooling2D\n",
    "from keras.utils import np_utils\n",
    "from keras.datasets import mnist"
   ]
  },
  {
   "cell_type": "code",
   "execution_count": 76,
   "id": "bf782287",
   "metadata": {},
   "outputs": [
    {
     "name": "stdout",
     "output_type": "stream",
     "text": [
      "(50000, 28, 28)\n"
     ]
    }
   ],
   "source": [
    "(X_train, y_train), (X_test, y_test) = mnist.load_data()\n",
    "X_val,y_val = X_train[50000:60000,:],y_train[50000:60000]\n",
    "X_train,y_train = X_train[:50000,:],y_train[:50000]\n",
    "print(X_train.shape)"
   ]
  },
  {
   "cell_type": "code",
   "execution_count": 77,
   "id": "a89b3ad3",
   "metadata": {},
   "outputs": [
    {
     "name": "stdout",
     "output_type": "stream",
     "text": [
      "Du lieu y ban dau: 5\n",
      "Du lieu y sau one-hot encoding: [0. 0. 0. 0. 0. 1. 0. 0. 0. 0.]\n"
     ]
    }
   ],
   "source": [
    "# Reshape lai du lieu cho dung kich thuoc ma keras yeu cau\n",
    "X_train = X_train.reshape(X_train.shape[0],28,28,1)\n",
    "X_val = X_val.reshape(X_val.shape[0],28,28,1)\n",
    "X_test = X_test.reshape(X_test.shape[0],28,28,1)\n",
    "\n",
    "# One hot encoding label (Y)\n",
    "Y_train = np_utils.to_categorical(y_train, 10)\n",
    "Y_val = np_utils.to_categorical(y_val, 10)\n",
    "Y_test = np_utils.to_categorical(y_test, 10)\n",
    "print(\"Du lieu y ban dau:\",y_train[0])\n",
    "print(\"Du lieu y sau one-hot encoding:\",Y_train[0])"
   ]
  },
  {
   "cell_type": "code",
   "execution_count": 79,
   "id": "fdf1e832",
   "metadata": {},
   "outputs": [
    {
     "name": "stdout",
     "output_type": "stream",
     "text": [
      "Epoch 1/10\n",
      "1563/1563 [==============================] - 39s 25ms/step - loss: 0.3245 - accuracy: 0.9101 - val_loss: 0.0711 - val_accuracy: 0.9820\n",
      "Epoch 2/10\n",
      "1563/1563 [==============================] - 45s 29ms/step - loss: 0.0607 - accuracy: 0.9826 - val_loss: 0.0578 - val_accuracy: 0.9832\n",
      "Epoch 3/10\n",
      "1563/1563 [==============================] - 45s 29ms/step - loss: 0.0369 - accuracy: 0.9895 - val_loss: 0.0471 - val_accuracy: 0.9865\n",
      "Epoch 4/10\n",
      "1563/1563 [==============================] - 46s 29ms/step - loss: 0.0254 - accuracy: 0.9924 - val_loss: 0.0450 - val_accuracy: 0.9873\n",
      "Epoch 5/10\n",
      "1563/1563 [==============================] - 46s 30ms/step - loss: 0.0170 - accuracy: 0.9952 - val_loss: 0.0495 - val_accuracy: 0.9862\n",
      "Epoch 6/10\n",
      "1563/1563 [==============================] - 46s 29ms/step - loss: 0.0112 - accuracy: 0.9971 - val_loss: 0.0409 - val_accuracy: 0.9879\n",
      "Epoch 7/10\n",
      "1563/1563 [==============================] - 46s 29ms/step - loss: 0.0082 - accuracy: 0.9980 - val_loss: 0.0419 - val_accuracy: 0.9878\n",
      "Epoch 8/10\n",
      "1563/1563 [==============================] - 46s 30ms/step - loss: 0.0051 - accuracy: 0.9989 - val_loss: 0.0396 - val_accuracy: 0.9888\n",
      "Epoch 9/10\n",
      "1563/1563 [==============================] - 46s 29ms/step - loss: 0.0038 - accuracy: 0.9992 - val_loss: 0.0426 - val_accuracy: 0.9886\n",
      "Epoch 10/10\n",
      "1563/1563 [==============================] - 46s 29ms/step - loss: 0.0033 - accuracy: 0.9992 - val_loss: 0.0449 - val_accuracy: 0.9887\n"
     ]
    }
   ],
   "source": [
    "# Dinh nghia model\n",
    "model = Sequential()\n",
    "\n",
    "# Them Convolutional layer voi 32 kernel, kich thuoc 3*3\n",
    "# dung ham signmoid lam activation va chi ro input_shape cho layer dau tien\n",
    "model.add(Conv2D(32,(3,3), activation=\"sigmoid\", input_shape=(28,28,1)))\n",
    "\n",
    "# Them Convolutional layer\n",
    "model.add(Conv2D(32, (3,3), activation =\"sigmoid\"))\n",
    "\n",
    "# Them max pooling layer\n",
    "model.add(MaxPooling2D(pool_size=(2,2)))\n",
    "\n",
    "# Flatten chuyen tu tensor sang vector\n",
    "model.add(Flatten())\n",
    "\n",
    "# Them Fully Connected layer voi 128 nodes va dung ham sigmoid\n",
    "model.add(Dense(128, activation = \"sigmoid\"))\n",
    "\n",
    "# Ouput layer voi 10 node va dung softmax function de chuyen sang xac suat\n",
    "model.add(Dense(10, activation=\"softmax\"))\n",
    "\n",
    "# Compile model, chi ro ham loss_func nao duoc su dung, phuong thuc\n",
    "# dung de toi uu ham loss_func\n",
    "model.compile(loss=\"categorical_crossentropy\",optimizer=\"adam\",metrics=[\"accuracy\"])\n",
    "\n",
    "# Thuc hien train model voi data\n",
    "# print(X_train.shape)\n",
    "# print(Y_train.shape)\n",
    "H = model.fit(X_train, Y_train, validation_data=(X_val,Y_val),batch_size=32,epochs=10,verbose=1)"
   ]
  },
  {
   "cell_type": "code",
   "execution_count": 87,
   "id": "3c999bce",
   "metadata": {},
   "outputs": [
    {
     "data": {
      "text/plain": [
       "<matplotlib.legend.Legend at 0x7f4c8f023430>"
      ]
     },
     "execution_count": 87,
     "metadata": {},
     "output_type": "execute_result"
    },
    {
     "data": {
      "image/png": "[encoded data removed]",
      "text/plain": [
       "<Figure size 432x288 with 1 Axes>"
      ]
     },
     "metadata": {
      "needs_background": "light"
     },
     "output_type": "display_data"
    }
   ],
   "source": [
    "# Ve do thi loss, accuracy cua training set va validation set\n",
    "fig = plt.figure()\n",
    "numOfEpoch = 10\n",
    "plt.plot(np.arange(0, numOfEpoch), H.history['loss'], label='training loss')\n",
    "plt.plot(np.arange(0, numOfEpoch), H.history['val_loss'], label='validation loss')\n",
    "plt.plot(np.arange(0, numOfEpoch), H.history['accuracy'], label='accuracy')\n",
    "plt.plot(np.arange(0, numOfEpoch), H.history['val_accuracy'], label='validation accuracy')\n",
    "plt.title('Accuracy and Loss')\n",
    "plt.xlabel('Epoch')\n",
    "plt.ylabel('Loss|Accuracy')\n",
    "plt.legend()"
   ]
  },
  {
   "cell_type": "code",
   "execution_count": 91,
   "id": "8cbaee84",
   "metadata": {},
   "outputs": [
    {
     "name": "stdout",
     "output_type": "stream",
     "text": [
      "[0.03606770560145378, 0.9896000027656555]\n"
     ]
    }
   ],
   "source": [
    "# Danh gia model voi du lieu test set\n",
    "score = model.evaluate(X_test, Y_test,verbose=0)\n",
    "print(score)"
   ]
  },
  {
   "cell_type": "code",
   "execution_count": 109,
   "id": "f2e85370",
   "metadata": {},
   "outputs": [
    {
     "name": "stdout",
     "output_type": "stream",
     "text": [
      "1402\n",
      "Gia tri du doan: 2\n"
     ]
    },
    {
     "data": {
      "image/png": "[encoded data removed]",
      "text/plain": [
       "<Figure size 432x288 with 1 Axes>"
      ]
     },
     "metadata": {
      "needs_background": "light"
     },
     "output_type": "display_data"
    }
   ],
   "source": [
    "# Du doan anh\n",
    "k = int(input())\n",
    "plt.imshow(X_test[k].reshape(28,28),cmap=\"gray\")\n",
    "\n",
    "y_predict = model.predict(X_test[k].reshape(1,28,28,1))\n",
    "print(\"Gia tri du doan:\",np.argmax(y_predict))"
   ]
  },
  {
   "cell_type": "code",
   "execution_count": null,
   "id": "7c41b0d1",
   "metadata": {},
   "outputs": [],
   "source": []
  }
 ],
 "metadata": {
  "kernelspec": {
   "display_name": "Python 3",
   "language": "python",
   "name": "python3"
  },
  "language_info": {
   "codemirror_mode": {
    "name": "ipython",
    "version": 3
   },
   "file_extension": ".py",
   "mimetype": "text/x-python",
   "name": "python",
   "nbconvert_exporter": "python",
   "pygments_lexer": "ipython3",
   "version": "3.9.5"
  }
 },
 "nbformat": 4,
 "nbformat_minor": 5
}
