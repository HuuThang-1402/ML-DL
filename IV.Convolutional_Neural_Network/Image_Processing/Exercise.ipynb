{
 "cells": [
  {
   "cell_type": "code",
   "execution_count": 1,
   "id": "33525f3c",
   "metadata": {},
   "outputs": [],
   "source": [
    "import cv2 as cv\n",
    "import numpy as np\n",
    "import sys"
   ]
  },
  {
   "cell_type": "code",
   "execution_count": 3,
   "id": "fa395b29",
   "metadata": {},
   "outputs": [],
   "source": [
    "# show ảnh xám\n",
    "imgg = cv.imread(\"/home/huuthang_at/Code/Python/MachineLearning/IV.Convolutional_Neural_Network/Image_Processing/anh-xam.jpg\")\n",
    "if imgg is None:\n",
    "    sys.exit(\"Could not read the image.\")\n",
    "cv.imshow(\"Image\",imgg)\n",
    "k = cv.waitKey(0)\n",
    "if k == ord(\"q\"):exit()"
   ]
  },
  {
   "cell_type": "code",
   "execution_count": 3,
   "id": "7ea6c4c7",
   "metadata": {},
   "outputs": [],
   "source": [
    "# show ảnh màu\n",
    "imgc = cv.imread(\"anh-thien-nhien.jpg\")\n",
    "if imgc is None:\n",
    "    sys.exit(\"Could not read the image.\")\n",
    "cv.imshow(\"Image\",imgc)\n",
    "k = cv.waitKey(0) \n",
    "if k == 27:exit() "
   ]
  },
  {
   "cell_type": "code",
   "execution_count": 2,
   "id": "835f76f8",
   "metadata": {},
   "outputs": [],
   "source": [
    "import cv2 as cv\n",
    "import numpy as np\n",
    "import sys\n",
    "# chuyển ảnh màu sang ảnh xám\n",
    "# Cach 1:\n",
    "img = cv.imread(\"anh-thien-nhien.jpg\",0)\n",
    "if img is None:\n",
    "    sys.exit(\"Could not read the image.\")\n",
    "cv.imshow(\"Image\",img)\n",
    "k = cv.waitKey(0)\n",
    "if k==27:exit()\n",
    "\n",
    "# Cach 2:\n",
    "# img  = cv.imread(\"anh-thien-nhien.jpg\")\n",
    "# if img is None:\n",
    "#     sys.exit(\"Could not read the image.\")\n",
    "# rows,cols,channels=img.shape\n",
    "# for i in range(rows):\n",
    "#     for j in range(cols):\n",
    "#         a = img[i][j]\n",
    "#         img[i][j] = a[0]*0.299 + a[1]*0.587 + a[2]*0.114\n",
    "# cv.imshow(\"Image\",img)\n",
    "# k = cv.waitKey(0)\n",
    "# if k==27:exit()"
   ]
  },
  {
   "cell_type": "code",
   "execution_count": 1,
   "id": "73f2544b",
   "metadata": {},
   "outputs": [
    {
     "name": "stdout",
     "output_type": "stream",
     "text": [
      "(450, 750, 3)\n",
      "anh-thien-nhien 1000 x 600\n"
     ]
    }
   ],
   "source": [
    "# resize anh\n",
    "import cv2 as cv\n",
    "import numpy as np\n",
    "import sys\n",
    "img = cv.imread(\"anh-thien-nhien.jpg\")\n",
    "print(img.shape)\n",
    "new_width = 1000\n",
    "new_height = 600\n",
    "img_resized = cv.resize(src = img, dsize=(new_width,new_height))\n",
    "resize_img_name = \"anh-thien-nhien %d x %d\" % (new_width,new_height)\n",
    "print(resize_img_name)\n",
    "cv.imshow(\"Image Resize\",img_resized)\n",
    "k = cv.waitKey(0)\n",
    "if k==27:exit()\n",
    "    \n",
    "# fx = 0.5\n",
    "# fy = 1.0\n",
    "# img_resized = cv2.resize(src=img, dsize=None, fx=fx, fy=fy)"
   ]
  },
  {
   "cell_type": "code",
   "execution_count": 1,
   "id": "7209e7b6",
   "metadata": {},
   "outputs": [],
   "source": [
    "# rotate anh\n",
    "import cv2 as cv\n",
    "import numpy as np\n",
    "import sys\n",
    "def rotate(image, angle, center = None, scale = 1.0):\n",
    "    (h, w) = image.shape[:2]\n",
    "    if center is None:\n",
    "        center = (w/2, h/2)\n",
    "    # Perform the rotation\n",
    "    M = cv.getRotationMatrix2D(center, angle, scale)\n",
    "    rotated = cv.warpAffine(image, M, (w, h))\n",
    "    return rotated\n",
    "img = cv.imread(\"anh-thien-nhien.jpg\")\n",
    "# angle = int(input(\"Input a angle want to rotate: \"))\n",
    "# img = rotate(img, angle)\n",
    "# cv.imshow(\"Image\",img)\n",
    "# k = cv.waitKey(0)\n",
    "# if k==27:exit()\n",
    "for angle in np.arange(0,361,15):\n",
    "    imgn = rotate(img, angle)\n",
    "    cv.imshow(\"\",imgn)\n",
    "    k=cv.waitKey(0)\n",
    "    if k==27:exit()"
   ]
  },
  {
   "cell_type": "code",
   "execution_count": null,
   "id": "6a075697",
   "metadata": {},
   "outputs": [],
   "source": []
  }
 ],
 "metadata": {
  "kernelspec": {
   "display_name": "Python 3",
   "language": "python",
   "name": "python3"
  },
  "language_info": {
   "codemirror_mode": {
    "name": "ipython",
    "version": 3
   },
   "file_extension": ".py",
   "mimetype": "text/x-python",
   "name": "python",
   "nbconvert_exporter": "python",
   "pygments_lexer": "ipython3",
   "version": "3.9.5"
  }
 },
 "nbformat": 4,
 "nbformat_minor": 5
}
