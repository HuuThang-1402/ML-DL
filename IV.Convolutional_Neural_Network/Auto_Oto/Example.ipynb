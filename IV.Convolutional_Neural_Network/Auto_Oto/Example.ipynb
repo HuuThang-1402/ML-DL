{
 "cells": [
  {
   "cell_type": "code",
   "execution_count": 2,
   "metadata": {},
   "outputs": [],
   "source": [
    "import pandas as pd\n",
    "import numpy as np\n",
    "import os\n",
    "import matplotlib.pyplot as plt\n",
    "\n",
    "from sklearn.model_selection import train_test_split\n",
    "\n",
    "from tensorflow.keras import Sequential\n",
    "from tensorflow.keras.optimizers import Adam\n",
    "from keras.callbacks import ModelCheckpoint\n",
    "from keras.layers import Lambda, Conv2D, Dropout, Dense, Flatten\n",
    "from tensorflow.keras.regularizers import l2\n",
    "\n",
    "from utils import INPUT_SHAPE, batch_generator"
   ]
  },
  {
   "cell_type": "code",
   "execution_count": 3,
   "metadata": {},
   "outputs": [
    {
     "data": {
      "text/plain": [
       "(array([  2.,   3.,   6.,   8.,  11.,  11.,  15., 246.,   0.,   2.]),\n",
       " array([-0.9000002 , -0.78500018, -0.67000016, -0.55500014, -0.44000012,\n",
       "        -0.3250001 , -0.21000008, -0.09500006,  0.01999996,  0.13499998,\n",
       "         0.25      ]),\n",
       " <BarContainer object of 10 artists>)"
      ]
     },
     "execution_count": 3,
     "metadata": {},
     "output_type": "execute_result"
    },
    {
     "data": {
      "image/png": "[encoded data removed]",
      "text/plain": [
       "<Figure size 432x288 with 1 Axes>"
      ]
     },
     "metadata": {
      "needs_background": "light"
     },
     "output_type": "display_data"
    }
   ],
   "source": [
    "# Thư mục để dữ liệu\n",
    "data_dir = 'dataset'\n",
    "# Đọc file driving_log.csv với các cột tương ứng\n",
    "data_df = pd.read_csv(os.path.join(os.getcwd(), data_dir, 'driving_log.csv'), names=['center', 'left', 'right', 'steering', 'throttle', 'reverse', 'speed'])\n",
    "\n",
    "# Lấy đường dẫn đến ảnh ở camera giữa, trái, phải\n",
    "X = data_df[['center', 'left', 'right']].values\n",
    "# Lấy góc lái của ô tô\n",
    "y = data_df['steering'].values\n",
    "\n",
    "# Vẽ histogram dữ liệu\n",
    "plt.hist(y)"
   ]
  },
  {
   "cell_type": "code",
   "execution_count": 4,
   "metadata": {},
   "outputs": [
    {
     "data": {
      "text/plain": [
       "(array([  2.,   3.,   6.,   8.,  11.,  11.,  15., 246.,   0.,   2.]),\n",
       " array([-0.9000002 , -0.78500018, -0.67000016, -0.55500014, -0.44000012,\n",
       "        -0.3250001 , -0.21000008, -0.09500006,  0.01999996,  0.13499998,\n",
       "         0.25      ]),\n",
       " <BarContainer object of 10 artists>)"
      ]
     },
     "execution_count": 4,
     "metadata": {},
     "output_type": "execute_result"
    },
    {
     "data": {
      "image/png": "[encoded data removed]",
      "text/plain": [
       "<Figure size 432x288 with 1 Axes>"
      ]
     },
     "metadata": {
      "needs_background": "light"
     },
     "output_type": "display_data"
    }
   ],
   "source": [
    "# Loại bỏ và chỉ lấy 1000 dữ liệu có góc lái ở 0\n",
    "pos_zero = np.array(np.where(y==0)).reshape(-1, 1)\n",
    "pos_none_zero = np.array(np.where(y!=0)).reshape(-1, 1)\n",
    "np.random.shuffle(pos_zero)\n",
    "pos_zero = pos_zero[:1000]\n",
    "\n",
    "pos_combined = np.vstack((pos_zero, pos_none_zero))\n",
    "pos_combined = list(pos_combined)\n",
    "\n",
    "y = y[pos_combined].reshape(len(pos_combined))\n",
    "X = X[pos_combined, :].reshape((len(pos_combined), 3))\n",
    "\n",
    "# After process\n",
    "plt.hist(y)"
   ]
  },
  {
   "cell_type": "code",
   "execution_count": 5,
   "metadata": {},
   "outputs": [],
   "source": [
    "# Chia ra training set va validation set\n",
    "X_train, X_valid, y_train, y_valid = train_test_split(X, y, test_size=0.2, random_state=0)"
   ]
  },
  {
   "cell_type": "code",
   "execution_count": 6,
   "metadata": {},
   "outputs": [
    {
     "name": "stdout",
     "output_type": "stream",
     "text": [
      "Model: \"sequential\"\n",
      "_________________________________________________________________\n",
      "Layer (type)                 Output Shape              Param #   \n",
      "=================================================================\n",
      "lambda (Lambda)              (None, 66, 200, 3)        0         \n",
      "_________________________________________________________________\n",
      "conv2d (Conv2D)              (None, 31, 98, 24)        1824      \n",
      "_________________________________________________________________\n",
      "conv2d_1 (Conv2D)            (None, 14, 47, 36)        21636     \n",
      "_________________________________________________________________\n",
      "conv2d_2 (Conv2D)            (None, 5, 22, 48)         43248     \n",
      "_________________________________________________________________\n",
      "conv2d_3 (Conv2D)            (None, 3, 20, 64)         27712     \n",
      "_________________________________________________________________\n",
      "conv2d_4 (Conv2D)            (None, 1, 18, 64)         36928     \n",
      "_________________________________________________________________\n",
      "dropout (Dropout)            (None, 1, 18, 64)         0         \n",
      "_________________________________________________________________\n",
      "flatten (Flatten)            (None, 1152)              0         \n",
      "_________________________________________________________________\n",
      "dense (Dense)                (None, 100)               115300    \n",
      "_________________________________________________________________\n",
      "dropout_1 (Dropout)          (None, 100)               0         \n",
      "_________________________________________________________________\n",
      "dense_1 (Dense)              (None, 50)                5050      \n",
      "_________________________________________________________________\n",
      "dense_2 (Dense)              (None, 10)                510       \n",
      "_________________________________________________________________\n",
      "dense_3 (Dense)              (None, 1)                 11        \n",
      "=================================================================\n",
      "Total params: 252,219\n",
      "Trainable params: 252,219\n",
      "Non-trainable params: 0\n",
      "_________________________________________________________________\n"
     ]
    }
   ],
   "source": [
    "# Xay dung model\n",
    "model = Sequential()\n",
    "model.add(Lambda(lambda x: x/127.5-1.0, input_shape=INPUT_SHAPE))\n",
    "model.add(Conv2D(24, 5, 2, activation='elu'))\n",
    "model.add(Conv2D(36,5,2, activation=\"elu\"))\n",
    "model.add(Conv2D(48,5,2, activation=\"elu\"))\n",
    "model.add(Conv2D(64,3, activation=\"elu\"))\n",
    "model.add(Conv2D(64, 3, activation='elu'))\n",
    "model.add(Dropout(0.5))\n",
    "model.add(Flatten())\n",
    "model.add(Dense(100, activation='elu'))\n",
    "model.add(Dropout(0.5))\n",
    "model.add(Dense(50, activation='elu'))\n",
    "model.add(Dense(10, activation='elu'))\n",
    "model.add(Dense(1))\n",
    "model.summary()"
   ]
  },
  {
   "cell_type": "code",
   "execution_count": 7,
   "metadata": {
    "scrolled": true
   },
   "outputs": [
    {
     "name": "stderr",
     "output_type": "stream",
     "text": [
      "/home/huuthang_at/.local/lib/python3.9/site-packages/keras/optimizer_v2/optimizer_v2.py:355: UserWarning: The `lr` argument is deprecated, use `learning_rate` instead.\n",
      "  warnings.warn(\n",
      "/home/huuthang_at/.local/lib/python3.9/site-packages/keras/engine/training.py:1977: UserWarning: `Model.fit_generator` is deprecated and will be removed in a future version. Please use `Model.fit`, which supports generators.\n",
      "  warnings.warn('`Model.fit_generator` is deprecated and '\n"
     ]
    },
    {
     "name": "stdout",
     "output_type": "stream",
     "text": [
      "Epoch 1/10\n",
      "1000/1000 [==============================] - 121s 120ms/step - loss: 0.0411 - val_loss: 0.0277\n",
      "Epoch 2/10\n",
      "1000/1000 [==============================] - 125s 125ms/step - loss: 0.0282 - val_loss: 0.0244\n",
      "Epoch 3/10\n",
      "1000/1000 [==============================] - 123s 123ms/step - loss: 0.0246 - val_loss: 0.0263\n",
      "Epoch 4/10\n",
      "1000/1000 [==============================] - 124s 124ms/step - loss: 0.0242 - val_loss: 0.0218\n",
      "Epoch 5/10\n",
      "1000/1000 [==============================] - 125s 125ms/step - loss: 0.0230 - val_loss: 0.0239\n",
      "Epoch 6/10\n",
      "1000/1000 [==============================] - 119s 119ms/step - loss: 0.0230 - val_loss: 0.0259\n",
      "Epoch 7/10\n",
      "1000/1000 [==============================] - 114s 114ms/step - loss: 0.0223 - val_loss: 0.0283\n",
      "Epoch 8/10\n",
      "1000/1000 [==============================] - 113s 113ms/step - loss: 0.0217 - val_loss: 0.0238\n",
      "Epoch 9/10\n",
      "1000/1000 [==============================] - 113s 113ms/step - loss: 0.0209 - val_loss: 0.0249\n",
      "Epoch 10/10\n",
      "1000/1000 [==============================] - 113s 113ms/step - loss: 0.0209 - val_loss: 0.0236\n"
     ]
    }
   ],
   "source": [
    "nb_epoch = 10\n",
    "samples_per_epoch = 1000\n",
    "batch_size = 32\n",
    "save_best_only = True\n",
    "learning_rate = 1e-4\n",
    "\n",
    "# Checkpoint này để nói cho model lưu lại model nếu validation loss thấp nhất\n",
    "checkpoint = ModelCheckpoint('models/model-{epoch:03d}.h5',\n",
    "                                 monitor='val_loss',\n",
    "                                 verbose=0,\n",
    "                                 save_best_only=save_best_only,\n",
    "                                 mode='auto')\n",
    "\n",
    "# Dùng mean_squrared_error làm loss function\n",
    "model.compile(loss='mean_squared_error', optimizer=Adam(lr=learning_rate))\n",
    "\n",
    "# Train model\n",
    "H = model.fit_generator(batch_generator(data_dir, X_train, y_train, batch_size, True),\n",
    "                    steps_per_epoch = samples_per_epoch,\n",
    "                    epochs = nb_epoch,\n",
    "                    verbose=1,\n",
    "                    callbacks=[checkpoint],\n",
    "                    validation_data=batch_generator(data_dir, X_valid, y_valid, batch_size, False),\n",
    "                    validation_steps=len(X_valid),\n",
    "                    max_queue_size=10,\n",
    "                    )"
   ]
  },
  {
   "cell_type": "code",
   "execution_count": null,
   "metadata": {},
   "outputs": [],
   "source": []
  }
 ],
 "metadata": {
  "kernelspec": {
   "display_name": "Python 3",
   "language": "python",
   "name": "python3"
  },
  "language_info": {
   "codemirror_mode": {
    "name": "ipython",
    "version": 3
   },
   "file_extension": ".py",
   "mimetype": "text/x-python",
   "name": "python",
   "nbconvert_exporter": "python",
   "pygments_lexer": "ipython3",
   "version": "3.9.5"
  }
 },
 "nbformat": 4,
 "nbformat_minor": 4
}
