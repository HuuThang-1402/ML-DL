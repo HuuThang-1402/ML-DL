{
 "cells": [
  {
   "cell_type": "code",
   "execution_count": 31,
   "id": "f0637c6f",
   "metadata": {},
   "outputs": [
    {
     "data": {
      "image/png": "[encoded data removed]",
      "text/plain": [
       "<Figure size 432x288 with 1 Axes>"
      ]
     },
     "metadata": {
      "needs_background": "light"
     },
     "output_type": "display_data"
    }
   ],
   "source": [
    "import numpy as np\n",
    "import pandas as pd\n",
    "import matplotlib.pyplot as plt\n",
    "\n",
    "# Ham sigmoid\n",
    "def sigmoid(x):\n",
    "    return 1/(1+np.exp(-x))\n",
    "\n",
    "# Load data tu file csv\n",
    "data = np.array([[0,0,0],\n",
    "        [1,1,0],\n",
    "       [0,1,1],\n",
    "       [1,0,1]])\n",
    "N,d = data.shape\n",
    "x = data[:,0:d-1].reshape(-1,d-1)\n",
    "y = data[:,2].reshape(-1,1)\n",
    "# ve data bang scatter\n",
    "plt.scatter(x[:2,0],x[:2,1],c=\"red\",edgecolors=\"none\",s=30,label=\"Output = 0\")\n",
    "plt.scatter(x[2:,0],x[2:,1],c=\"blue\",edgecolors=\"none\",s=30,label=\"Output = 1\")\n",
    "plt.legend(loc=10)\n",
    "plt.xlabel(\"X1\")\n",
    "plt.ylabel(\"X2\")\n",
    "plt.show()\n",
    "\n",
    "# # Them cot 1 vao du lieu x\n",
    "# x = np.hstack((np.ones((N,1)),x))\n",
    "\n",
    "# w = np.array([0.,0.1,0.1]).reshape(-1,1)\n",
    "\n",
    "# # So lan lap buoc 2\n",
    "# numOfIteration = 1000\n",
    "# # cost = np.zeros((numOfIteration,1))\n",
    "# learning_rate = 0.01\n",
    "\n",
    "# for i in range(1,numOfIteration):\n",
    "#     # Tinh gia tri du doan\n",
    "#     y_predict = sigmoid(np.dot(x,w))\n",
    "# #     cost[i] = -np.sum(np.multiply(y,np.log(y_predict))+np.multiply(1-y,(1-np.log(y_predict))))\n",
    "#     w -= learning_rate*np.dot(x.T,y_predict-y)\n",
    "# #     print(cost[i])\n",
    "    \n",
    "# t =0.5\n",
    "# plt.plot((0, 1),(-(w[0]+0*w[1]+ np.log(1/t-1))/w[2], -(w[0] + 1*w[1]+np.log(1/t-1))/w[2]), 'g')\n",
    " \n",
    "# plt.show()\n"
   ]
  },
  {
   "cell_type": "code",
   "execution_count": null,
   "id": "ec60c940",
   "metadata": {},
   "outputs": [],
   "source": []
  }
 ],
 "metadata": {
  "kernelspec": {
   "display_name": "Python 3",
   "language": "python",
   "name": "python3"
  },
  "language_info": {
   "codemirror_mode": {
    "name": "ipython",
    "version": 3
   },
   "file_extension": ".py",
   "mimetype": "text/x-python",
   "name": "python",
   "nbconvert_exporter": "python",
   "pygments_lexer": "ipython3",
   "version": "3.9.4"
  }
 },
 "nbformat": 4,
 "nbformat_minor": 5
}
