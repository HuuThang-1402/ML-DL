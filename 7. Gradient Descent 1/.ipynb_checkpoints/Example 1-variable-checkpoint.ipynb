{
 "cells": [
  {
   "cell_type": "code",
   "execution_count": 2,
   "id": "ba8dc5e7",
   "metadata": {},
   "outputs": [],
   "source": [
    "from __future__ import division, print_function,unicode_literals\n",
    "import math\n",
    "import numpy as np\n",
    "import matplotlib.pyplot as plt"
   ]
  },
  {
   "cell_type": "code",
   "execution_count": 6,
   "id": "44bae78f",
   "metadata": {},
   "outputs": [
    {
     "name": "stdout",
     "output_type": "stream",
     "text": [
      "Solution x1 = -1.110566, cost = -3.246394, obtained after 11 iterations\n",
      "Solution x2 = -1.110451, cost = -3.246394, obtained after 29 iterations\n"
     ]
    }
   ],
   "source": [
    "# f(x) = x^2 + 5*sin(x)\n",
    "# f'(x) = 2*x +5*cos(x)\n",
    "\n",
    "def grad(x):# de tinh dao ham\n",
    "    return 2*x+5*np.cos(x)\n",
    "\n",
    "def cost(x):# de tinh gia tri ham so\n",
    "    return x*x+5*np.sin(x)\n",
    "\n",
    "def myGD1(eta,x0):# thuat toan Gradient Descent\n",
    "    x=[x0]\n",
    "    for it in range(100):\n",
    "        x_new = x[-1]-eta*grad(x[-1])\n",
    "        x.append(x_new)\n",
    "        if abs(grad(x_new))<1e-3:\n",
    "            break\n",
    "    return (x,it)\n",
    "\n",
    "(x1,it1) = myGD1(0.1,-5)\n",
    "(x2,it2) = myGD1(0.1,5)\n",
    "\n",
    "# print(f\"Solution x1 = {x1[-1]}, cost = {cost(x1[-1])}, obtained after {it1} iterations\")\n",
    "# print(f\"Solution x2 = {x2[-1]}, cost = {cost(x2[-1])}, obtained after {it2} iterations\")\n",
    "\n",
    "print(\"Solution x1 = %f, cost = %f, obtained after %d iterations\"%(x1[-1],cost(x1[-1]),it1))\n",
    "print(\"Solution x2 = %f, cost = %f, obtained after %d iterations\"%(x2[-1],cost(x2[-1]),it2))"
   ]
  },
  {
   "cell_type": "code",
   "execution_count": null,
   "id": "a531b474",
   "metadata": {},
   "outputs": [],
   "source": []
  }
 ],
 "metadata": {
  "kernelspec": {
   "display_name": "Python 3",
   "language": "python",
   "name": "python3"
  },
  "language_info": {
   "codemirror_mode": {
    "name": "ipython",
    "version": 3
   },
   "file_extension": ".py",
   "mimetype": "text/x-python",
   "name": "python",
   "nbconvert_exporter": "python",
   "pygments_lexer": "ipython3",
   "version": "3.9.4"
  }
 },
 "nbformat": 4,
 "nbformat_minor": 5
}
